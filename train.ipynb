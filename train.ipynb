{
 "cells": [
  {
   "cell_type": "markdown",
   "metadata": {},
   "source": [
    "## Training"
   ]
  },
  {
   "cell_type": "code",
   "execution_count": 1,
   "metadata": {},
   "outputs": [
    {
     "name": "stdout",
     "output_type": "stream",
     "text": [
      "rm: cannot remove 'checkpoints/*': No such file or directory\n"
     ]
    }
   ],
   "source": [
    "#!rm -r checkpoints/*"
   ]
  },
  {
   "cell_type": "code",
   "execution_count": null,
   "metadata": {
    "collapsed": true,
    "jupyter": {
     "outputs_hidden": true
    }
   },
   "outputs": [
    {
     "name": "stdout",
     "output_type": "stream",
     "text": [
      "{'dataset_type': 'pascal', 'detect_quadrangle': False, 'detect_text': False, 'snapshot': 'checkpoints/voc_l1/pascal.h5', 'freeze_backbone': True, 'freeze_bn': False, 'weighted_bifpn': False, 'lr': 0.001, 'batch_size': 32, 'phi': 0, 'gpu': '0,1', 'epochs': 50, 'steps': 10000, 'snapshot_path': 'checkpoints/voc_l1', 'tensorboard_dir': 'logs/2021-02-18', 'snapshots': True, 'evaluation': False, 'random_transform': True, 'compute_val_loss': True, 'multiprocessing': False, 'workers': 1, 'max_queue_size': 10, 'pascal_path': '/datasets/dataset/VOCdevkit/VOC2012'}\n",
      "Loading model, this may take a second...\n",
      "Epoch 1/50\n",
      "361/361 [==============================] - ETA: 0s - loss: 0.5401 - classification_loss: 0.3501 - regression_loss: 0.1900\n",
      "Epoch 00001: val_loss improved from inf to 0.52528, saving model to checkpoints/voc_l1/pascal.h5\n",
      "361/361 [==============================] - 683s 2s/step - loss: 0.5401 - classification_loss: 0.3501 - regression_loss: 0.1900 - val_loss: 0.5253 - val_classification_loss: 0.3454 - val_regression_loss: 0.1799\n",
      "Epoch 2/50\n",
      "361/361 [==============================] - ETA: 0s - loss: 0.5175 - classification_loss: 0.3344 - regression_loss: 0.1831\n",
      "Epoch 00002: val_loss did not improve from 0.52528\n",
      "361/361 [==============================] - 674s 2s/step - loss: 0.5175 - classification_loss: 0.3344 - regression_loss: 0.1831 - val_loss: 0.5427 - val_classification_loss: 0.3599 - val_regression_loss: 0.1828\n",
      "Epoch 3/50\n",
      "361/361 [==============================] - ETA: 0s - loss: 0.5057 - classification_loss: 0.3256 - regression_loss: 0.1801\n",
      "Epoch 00003: val_loss improved from 0.52528 to 0.48988, saving model to checkpoints/voc_l1/pascal.h5\n",
      "361/361 [==============================] - 675s 2s/step - loss: 0.5057 - classification_loss: 0.3256 - regression_loss: 0.1801 - val_loss: 0.4899 - val_classification_loss: 0.3155 - val_regression_loss: 0.1744\n",
      "Epoch 4/50\n",
      "361/361 [==============================] - ETA: 0s - loss: 0.4954 - classification_loss: 0.3180 - regression_loss: 0.1773\n",
      "Epoch 00004: val_loss did not improve from 0.48988\n",
      "361/361 [==============================] - 675s 2s/step - loss: 0.4954 - classification_loss: 0.3180 - regression_loss: 0.1773 - val_loss: 0.4935 - val_classification_loss: 0.3199 - val_regression_loss: 0.1736\n",
      "Epoch 5/50\n",
      "361/361 [==============================] - ETA: 0s - loss: 0.4850 - classification_loss: 0.3111 - regression_loss: 0.1740\n",
      "Epoch 00005: val_loss did not improve from 0.48988\n",
      "\n",
      "Epoch 00005: ReduceLROnPlateau reducing learning rate to 0.000800000037997961.\n",
      "361/361 [==============================] - 672s 2s/step - loss: 0.4850 - classification_loss: 0.3111 - regression_loss: 0.1740 - val_loss: 0.4938 - val_classification_loss: 0.3257 - val_regression_loss: 0.1681\n",
      "Epoch 6/50\n",
      "361/361 [==============================] - ETA: 0s - loss: 0.4671 - classification_loss: 0.2976 - regression_loss: 0.1695\n",
      "Epoch 00006: val_loss improved from 0.48988 to 0.45494, saving model to checkpoints/voc_l1/pascal.h5\n",
      "361/361 [==============================] - 673s 2s/step - loss: 0.4671 - classification_loss: 0.2976 - regression_loss: 0.1695 - val_loss: 0.4549 - val_classification_loss: 0.2926 - val_regression_loss: 0.1623\n",
      "Epoch 7/50\n",
      "361/361 [==============================] - ETA: 0s - loss: 0.4596 - classification_loss: 0.2928 - regression_loss: 0.1668\n",
      "Epoch 00007: val_loss improved from 0.45494 to 0.43306, saving model to checkpoints/voc_l1/pascal.h5\n",
      "361/361 [==============================] - 671s 2s/step - loss: 0.4596 - classification_loss: 0.2928 - regression_loss: 0.1668 - val_loss: 0.4331 - val_classification_loss: 0.2744 - val_regression_loss: 0.1586\n",
      "Epoch 8/50\n",
      "361/361 [==============================] - ETA: 0s - loss: 0.4521 - classification_loss: 0.2875 - regression_loss: 0.1646\n",
      "Epoch 00008: val_loss did not improve from 0.43306\n",
      "361/361 [==============================] - 672s 2s/step - loss: 0.4521 - classification_loss: 0.2875 - regression_loss: 0.1646 - val_loss: 0.4472 - val_classification_loss: 0.2868 - val_regression_loss: 0.1603\n",
      "Epoch 9/50\n",
      "361/361 [==============================] - ETA: 0s - loss: 0.4457 - classification_loss: 0.2832 - regression_loss: 0.1626\n",
      "Epoch 00009: val_loss improved from 0.43306 to 0.43103, saving model to checkpoints/voc_l1/pascal.h5\n",
      "361/361 [==============================] - 671s 2s/step - loss: 0.4457 - classification_loss: 0.2832 - regression_loss: 0.1626 - val_loss: 0.4310 - val_classification_loss: 0.2749 - val_regression_loss: 0.1561\n",
      "Epoch 10/50\n",
      "361/361 [==============================] - ETA: 0s - loss: 0.4405 - classification_loss: 0.2792 - regression_loss: 0.1613\n",
      "Epoch 00010: val_loss improved from 0.43103 to 0.42082, saving model to checkpoints/voc_l1/pascal.h5\n",
      "361/361 [==============================] - 671s 2s/step - loss: 0.4405 - classification_loss: 0.2792 - regression_loss: 0.1613 - val_loss: 0.4208 - val_classification_loss: 0.2659 - val_regression_loss: 0.1549\n",
      "Epoch 11/50\n",
      "361/361 [==============================] - ETA: 0s - loss: 0.4350 - classification_loss: 0.2757 - regression_loss: 0.1593\n",
      "Epoch 00011: val_loss improved from 0.42082 to 0.41850, saving model to checkpoints/voc_l1/pascal.h5\n",
      "361/361 [==============================] - 672s 2s/step - loss: 0.4350 - classification_loss: 0.2757 - regression_loss: 0.1593 - val_loss: 0.4185 - val_classification_loss: 0.2645 - val_regression_loss: 0.1540\n",
      "Epoch 12/50\n",
      "361/361 [==============================] - ETA: 0s - loss: 0.4313 - classification_loss: 0.2727 - regression_loss: 0.1585\n",
      "Epoch 00012: val_loss did not improve from 0.41850\n",
      "361/361 [==============================] - 671s 2s/step - loss: 0.4313 - classification_loss: 0.2727 - regression_loss: 0.1585 - val_loss: 0.4276 - val_classification_loss: 0.2770 - val_regression_loss: 0.1506\n",
      "Epoch 13/50\n",
      "361/361 [==============================] - ETA: 0s - loss: 0.4253 - classification_loss: 0.2686 - regression_loss: 0.1567\n",
      "Epoch 00013: val_loss improved from 0.41850 to 0.41289, saving model to checkpoints/voc_l1/pascal.h5\n",
      "361/361 [==============================] - 671s 2s/step - loss: 0.4253 - classification_loss: 0.2686 - regression_loss: 0.1567 - val_loss: 0.4129 - val_classification_loss: 0.2612 - val_regression_loss: 0.1516\n",
      "Epoch 14/50\n",
      "361/361 [==============================] - ETA: 0s - loss: 0.4204 - classification_loss: 0.2651 - regression_loss: 0.1553\n",
      "Epoch 00014: val_loss improved from 0.41289 to 0.40322, saving model to checkpoints/voc_l1/pascal.h5\n",
      "361/361 [==============================] - 672s 2s/step - loss: 0.4204 - classification_loss: 0.2651 - regression_loss: 0.1553 - val_loss: 0.4032 - val_classification_loss: 0.2528 - val_regression_loss: 0.1504\n",
      "Epoch 15/50\n",
      "361/361 [==============================] - ETA: 0s - loss: 0.4161 - classification_loss: 0.2617 - regression_loss: 0.1544\n",
      "Epoch 00015: val_loss improved from 0.40322 to 0.40022, saving model to checkpoints/voc_l1/pascal.h5\n",
      "361/361 [==============================] - 671s 2s/step - loss: 0.4161 - classification_loss: 0.2617 - regression_loss: 0.1544 - val_loss: 0.4002 - val_classification_loss: 0.2481 - val_regression_loss: 0.1521\n",
      "Epoch 16/50\n",
      "361/361 [==============================] - ETA: 0s - loss: 0.4106 - classification_loss: 0.2582 - regression_loss: 0.1524\n",
      "Epoch 00016: val_loss improved from 0.40022 to 0.39666, saving model to checkpoints/voc_l1/pascal.h5\n",
      "361/361 [==============================] - 672s 2s/step - loss: 0.4106 - classification_loss: 0.2582 - regression_loss: 0.1524 - val_loss: 0.3967 - val_classification_loss: 0.2498 - val_regression_loss: 0.1469\n",
      "Epoch 17/50\n",
      "361/361 [==============================] - ETA: 0s - loss: 0.4101 - classification_loss: 0.2578 - regression_loss: 0.1523\n",
      "Epoch 00017: val_loss improved from 0.39666 to 0.39282, saving model to checkpoints/voc_l1/pascal.h5\n",
      "361/361 [==============================] - 672s 2s/step - loss: 0.4101 - classification_loss: 0.2578 - regression_loss: 0.1523 - val_loss: 0.3928 - val_classification_loss: 0.2467 - val_regression_loss: 0.1461\n",
      "Epoch 18/50\n",
      "361/361 [==============================] - ETA: 0s - loss: 0.4033 - classification_loss: 0.2534 - regression_loss: 0.1500\n",
      "Epoch 00018: val_loss improved from 0.39282 to 0.38669, saving model to checkpoints/voc_l1/pascal.h5\n",
      "361/361 [==============================] - 673s 2s/step - loss: 0.4033 - classification_loss: 0.2534 - regression_loss: 0.1500 - val_loss: 0.3867 - val_classification_loss: 0.2403 - val_regression_loss: 0.1464\n",
      "Epoch 19/50\n",
      "361/361 [==============================] - ETA: 0s - loss: 0.4007 - classification_loss: 0.2513 - regression_loss: 0.1494\n",
      "Epoch 00019: val_loss improved from 0.38669 to 0.38129, saving model to checkpoints/voc_l1/pascal.h5\n",
      "361/361 [==============================] - 670s 2s/step - loss: 0.4007 - classification_loss: 0.2513 - regression_loss: 0.1494 - val_loss: 0.3813 - val_classification_loss: 0.2373 - val_regression_loss: 0.1440\n",
      "Epoch 20/50\n",
      "361/361 [==============================] - ETA: 0s - loss: 0.3992 - classification_loss: 0.2501 - regression_loss: 0.1491\n",
      "Epoch 00020: val_loss improved from 0.38129 to 0.38076, saving model to checkpoints/voc_l1/pascal.h5\n",
      "361/361 [==============================] - 671s 2s/step - loss: 0.3992 - classification_loss: 0.2501 - regression_loss: 0.1491 - val_loss: 0.3808 - val_classification_loss: 0.2399 - val_regression_loss: 0.1408\n",
      "Epoch 21/50\n",
      "361/361 [==============================] - ETA: 0s - loss: 0.3939 - classification_loss: 0.2467 - regression_loss: 0.1471\n",
      "Epoch 00021: val_loss improved from 0.38076 to 0.37768, saving model to checkpoints/voc_l1/pascal.h5\n",
      "361/361 [==============================] - 671s 2s/step - loss: 0.3939 - classification_loss: 0.2467 - regression_loss: 0.1471 - val_loss: 0.3777 - val_classification_loss: 0.2366 - val_regression_loss: 0.1411\n",
      "Epoch 22/50\n",
      "361/361 [==============================] - ETA: 0s - loss: 0.3929 - classification_loss: 0.2456 - regression_loss: 0.1472\n",
      "Epoch 00022: val_loss did not improve from 0.37768\n",
      "361/361 [==============================] - 670s 2s/step - loss: 0.3929 - classification_loss: 0.2456 - regression_loss: 0.1472 - val_loss: 0.3795 - val_classification_loss: 0.2379 - val_regression_loss: 0.1417\n",
      "Epoch 23/50\n",
      "361/361 [==============================] - ETA: 0s - loss: 0.3916 - classification_loss: 0.2452 - regression_loss: 0.1464\n",
      "Epoch 00023: val_loss improved from 0.37768 to 0.37270, saving model to checkpoints/voc_l1/pascal.h5\n",
      "361/361 [==============================] - 672s 2s/step - loss: 0.3916 - classification_loss: 0.2452 - regression_loss: 0.1464 - val_loss: 0.3727 - val_classification_loss: 0.2315 - val_regression_loss: 0.1412\n",
      "Epoch 24/50\n",
      "361/361 [==============================] - ETA: 0s - loss: 0.3869 - classification_loss: 0.2412 - regression_loss: 0.1456\n",
      "Epoch 00024: val_loss did not improve from 0.37270\n",
      "361/361 [==============================] - 668s 2s/step - loss: 0.3869 - classification_loss: 0.2412 - regression_loss: 0.1456 - val_loss: 0.3859 - val_classification_loss: 0.2458 - val_regression_loss: 0.1401\n",
      "Epoch 25/50\n",
      "361/361 [==============================] - ETA: 0s - loss: 0.3826 - classification_loss: 0.2383 - regression_loss: 0.1443\n",
      "Epoch 00025: val_loss improved from 0.37270 to 0.36723, saving model to checkpoints/voc_l1/pascal.h5\n",
      "361/361 [==============================] - 671s 2s/step - loss: 0.3826 - classification_loss: 0.2383 - regression_loss: 0.1443 - val_loss: 0.3672 - val_classification_loss: 0.2309 - val_regression_loss: 0.1363\n",
      "Epoch 26/50\n",
      "361/361 [==============================] - ETA: 0s - loss: 0.3807 - classification_loss: 0.2372 - regression_loss: 0.1435\n",
      "Epoch 00026: val_loss did not improve from 0.36723\n",
      "361/361 [==============================] - 669s 2s/step - loss: 0.3807 - classification_loss: 0.2372 - regression_loss: 0.1435 - val_loss: 0.3676 - val_classification_loss: 0.2277 - val_regression_loss: 0.1399\n",
      "Epoch 27/50\n",
      "361/361 [==============================] - ETA: 0s - loss: 0.3764 - classification_loss: 0.2340 - regression_loss: 0.1424\n",
      "Epoch 00027: val_loss improved from 0.36723 to 0.36032, saving model to checkpoints/voc_l1/pascal.h5\n",
      "361/361 [==============================] - 672s 2s/step - loss: 0.3764 - classification_loss: 0.2340 - regression_loss: 0.1424 - val_loss: 0.3603 - val_classification_loss: 0.2242 - val_regression_loss: 0.1361\n",
      "Epoch 28/50\n",
      "361/361 [==============================] - ETA: 0s - loss: 0.3752 - classification_loss: 0.2332 - regression_loss: 0.1420\n",
      "Epoch 00028: val_loss improved from 0.36032 to 0.35357, saving model to checkpoints/voc_l1/pascal.h5\n",
      "361/361 [==============================] - 671s 2s/step - loss: 0.3752 - classification_loss: 0.2332 - regression_loss: 0.1420 - val_loss: 0.3536 - val_classification_loss: 0.2190 - val_regression_loss: 0.1346\n",
      "Epoch 29/50\n",
      "361/361 [==============================] - ETA: 0s - loss: 0.3731 - classification_loss: 0.2315 - regression_loss: 0.1416\n",
      "Epoch 00029: val_loss did not improve from 0.35357\n",
      "361/361 [==============================] - 670s 2s/step - loss: 0.3731 - classification_loss: 0.2315 - regression_loss: 0.1416 - val_loss: 0.3555 - val_classification_loss: 0.2213 - val_regression_loss: 0.1343\n",
      "Epoch 30/50\n",
      "361/361 [==============================] - ETA: 0s - loss: 0.3716 - classification_loss: 0.2308 - regression_loss: 0.1408\n",
      "Epoch 00030: val_loss improved from 0.35357 to 0.34713, saving model to checkpoints/voc_l1/pascal.h5\n",
      "361/361 [==============================] - 673s 2s/step - loss: 0.3716 - classification_loss: 0.2308 - regression_loss: 0.1408 - val_loss: 0.3471 - val_classification_loss: 0.2146 - val_regression_loss: 0.1325\n",
      "Epoch 31/50\n",
      "361/361 [==============================] - ETA: 0s - loss: 0.3691 - classification_loss: 0.2291 - regression_loss: 0.1400\n",
      "Epoch 00031: val_loss did not improve from 0.34713\n",
      "361/361 [==============================] - 670s 2s/step - loss: 0.3691 - classification_loss: 0.2291 - regression_loss: 0.1400 - val_loss: 0.3506 - val_classification_loss: 0.2184 - val_regression_loss: 0.1322\n",
      "Epoch 32/50\n",
      "361/361 [==============================] - ETA: 0s - loss: 0.3656 - classification_loss: 0.2268 - regression_loss: 0.1388\n",
      "Epoch 00032: val_loss improved from 0.34713 to 0.34017, saving model to checkpoints/voc_l1/pascal.h5\n",
      "361/361 [==============================] - 672s 2s/step - loss: 0.3656 - classification_loss: 0.2268 - regression_loss: 0.1388 - val_loss: 0.3402 - val_classification_loss: 0.2096 - val_regression_loss: 0.1305\n",
      "Epoch 33/50\n",
      "361/361 [==============================] - ETA: 0s - loss: 0.3628 - classification_loss: 0.2248 - regression_loss: 0.1380\n",
      "Epoch 00033: val_loss improved from 0.34017 to 0.33972, saving model to checkpoints/voc_l1/pascal.h5\n",
      "361/361 [==============================] - 672s 2s/step - loss: 0.3628 - classification_loss: 0.2248 - regression_loss: 0.1380 - val_loss: 0.3397 - val_classification_loss: 0.2090 - val_regression_loss: 0.1308\n",
      "Epoch 34/50\n",
      "361/361 [==============================] - ETA: 0s - loss: 0.3627 - classification_loss: 0.2241 - regression_loss: 0.1385\n",
      "Epoch 00034: val_loss did not improve from 0.33972\n",
      "361/361 [==============================] - 672s 2s/step - loss: 0.3627 - classification_loss: 0.2241 - regression_loss: 0.1385 - val_loss: 0.3489 - val_classification_loss: 0.2182 - val_regression_loss: 0.1307\n",
      "Epoch 35/50\n",
      "361/361 [==============================] - ETA: 0s - loss: 0.3584 - classification_loss: 0.2212 - regression_loss: 0.1372\n",
      "Epoch 00035: val_loss improved from 0.33972 to 0.33631, saving model to checkpoints/voc_l1/pascal.h5\n",
      "361/361 [==============================] - 670s 2s/step - loss: 0.3584 - classification_loss: 0.2212 - regression_loss: 0.1372 - val_loss: 0.3363 - val_classification_loss: 0.2061 - val_regression_loss: 0.1302\n",
      "Epoch 36/50\n",
      "361/361 [==============================] - ETA: 0s - loss: 0.3573 - classification_loss: 0.2211 - regression_loss: 0.1362\n",
      "Epoch 00036: val_loss improved from 0.33631 to 0.33482, saving model to checkpoints/voc_l1/pascal.h5\n",
      "361/361 [==============================] - 671s 2s/step - loss: 0.3573 - classification_loss: 0.2211 - regression_loss: 0.1362 - val_loss: 0.3348 - val_classification_loss: 0.2065 - val_regression_loss: 0.1284\n",
      "Epoch 37/50\n",
      "361/361 [==============================] - ETA: 0s - loss: 0.3566 - classification_loss: 0.2206 - regression_loss: 0.1360\n",
      "Epoch 00037: val_loss did not improve from 0.33482\n",
      "361/361 [==============================] - 671s 2s/step - loss: 0.3566 - classification_loss: 0.2206 - regression_loss: 0.1360 - val_loss: 0.3389 - val_classification_loss: 0.2089 - val_regression_loss: 0.1299\n",
      "Epoch 38/50\n",
      "361/361 [==============================] - ETA: 0s - loss: 0.3538 - classification_loss: 0.2179 - regression_loss: 0.1359\n",
      "Epoch 00038: val_loss did not improve from 0.33482\n",
      "\n",
      "Epoch 00038: ReduceLROnPlateau reducing learning rate to 0.0006400000303983689.\n",
      "361/361 [==============================] - 671s 2s/step - loss: 0.3538 - classification_loss: 0.2179 - regression_loss: 0.1359 - val_loss: 0.3412 - val_classification_loss: 0.2116 - val_regression_loss: 0.1297\n",
      "Epoch 39/50\n",
      "361/361 [==============================] - ETA: 0s - loss: 0.3464 - classification_loss: 0.2129 - regression_loss: 0.1335\n",
      "Epoch 00039: val_loss improved from 0.33482 to 0.32507, saving model to checkpoints/voc_l1/pascal.h5\n",
      "361/361 [==============================] - 672s 2s/step - loss: 0.3464 - classification_loss: 0.2129 - regression_loss: 0.1335 - val_loss: 0.3251 - val_classification_loss: 0.1973 - val_regression_loss: 0.1278\n",
      "Epoch 40/50\n",
      "361/361 [==============================] - ETA: 0s - loss: 0.3439 - classification_loss: 0.2117 - regression_loss: 0.1322\n",
      "Epoch 00040: val_loss improved from 0.32507 to 0.32206, saving model to checkpoints/voc_l1/pascal.h5\n",
      "361/361 [==============================] - 671s 2s/step - loss: 0.3439 - classification_loss: 0.2117 - regression_loss: 0.1322 - val_loss: 0.3221 - val_classification_loss: 0.1971 - val_regression_loss: 0.1250\n",
      "Epoch 41/50\n",
      "361/361 [==============================] - ETA: 0s - loss: 0.3407 - classification_loss: 0.2091 - regression_loss: 0.1316\n",
      "Epoch 00041: val_loss improved from 0.32206 to 0.32079, saving model to checkpoints/voc_l1/pascal.h5\n",
      "361/361 [==============================] - 672s 2s/step - loss: 0.3407 - classification_loss: 0.2091 - regression_loss: 0.1316 - val_loss: 0.3208 - val_classification_loss: 0.1942 - val_regression_loss: 0.1266\n",
      "Epoch 42/50\n",
      " 33/361 [=>............................] - ETA: 6:49 - loss: 0.3176 - classification_loss: 0.1933 - regression_loss: 0.1243"
     ]
    }
   ],
   "source": [
    "# first train with freezed backbone and lr=1e-3\n",
    "!python train.py \\\n",
    "--snapshot checkpoints/voc_piou/pascal.h5 \\\n",
    "--phi 0 \\\n",
    "--gpu 0,1 \\\n",
    "--no-evaluation \\\n",
    "--random-transform \\\n",
    "--compute-val-loss \\\n",
    "--freeze-backbone \\\n",
    "--batch-size 32 \\\n",
    "--snapshot-path checkpoints/voc_l1 \\\n",
    "pascal /datasets/dataset/VOCdevkit/VOC2012"
   ]
  },
  {
   "cell_type": "code",
   "execution_count": 1,
   "metadata": {
    "collapsed": true,
    "jupyter": {
     "outputs_hidden": true
    }
   },
   "outputs": [
    {
     "name": "stdout",
     "output_type": "stream",
     "text": [
      "{'dataset_type': 'pascal', 'detect_quadrangle': False, 'detect_text': False, 'snapshot': 'checkpoints/voc_l1_finetuned/pascal.h5', 'freeze_backbone': False, 'freeze_bn': False, 'weighted_bifpn': False, 'lr': 6.4e-05, 'batch_size': 16, 'phi': 0, 'gpu': '0,1', 'epochs': 50, 'steps': 10000, 'snapshot_path': 'checkpoints/voc_l1_finetuned', 'tensorboard_dir': 'logs/2021-02-19', 'snapshots': True, 'evaluation': False, 'random_transform': True, 'compute_val_loss': True, 'multiprocessing': False, 'workers': 1, 'max_queue_size': 10, 'pascal_path': '/datasets/dataset/VOCdevkit/VOC2012'}\n",
      "Loading model, this may take a second...\n",
      "Epoch 1/50\n",
      "722/722 [==============================] - ETA: 0s - loss: 0.2214 - classification_loss: 0.1349 - regression_loss: 0.0865\n",
      "Epoch 00001: val_loss improved from inf to 0.16125, saving model to checkpoints/voc_l1_finetuned/pascal.h5\n",
      "722/722 [==============================] - 830s 1s/step - loss: 0.2214 - classification_loss: 0.1349 - regression_loss: 0.0865 - val_loss: 0.1612 - val_classification_loss: 0.0908 - val_regression_loss: 0.0704\n",
      "Epoch 2/50\n",
      "722/722 [==============================] - ETA: 0s - loss: 0.2029 - classification_loss: 0.1200 - regression_loss: 0.0829\n",
      "Epoch 00002: val_loss improved from 0.16125 to 0.15761, saving model to checkpoints/voc_l1_finetuned/pascal.h5\n",
      "722/722 [==============================] - 843s 1s/step - loss: 0.2029 - classification_loss: 0.1200 - regression_loss: 0.0829 - val_loss: 0.1576 - val_classification_loss: 0.0881 - val_regression_loss: 0.0695\n",
      "Epoch 3/50\n",
      "722/722 [==============================] - ETA: 0s - loss: 0.1961 - classification_loss: 0.1149 - regression_loss: 0.0812\n",
      "Epoch 00003: val_loss improved from 0.15761 to 0.15447, saving model to checkpoints/voc_l1_finetuned/pascal.h5\n",
      "722/722 [==============================] - 818s 1s/step - loss: 0.1961 - classification_loss: 0.1149 - regression_loss: 0.0812 - val_loss: 0.1545 - val_classification_loss: 0.0861 - val_regression_loss: 0.0683\n",
      "Epoch 4/50\n",
      "722/722 [==============================] - ETA: 0s - loss: 0.1897 - classification_loss: 0.1103 - regression_loss: 0.0794\n",
      "Epoch 00004: val_loss did not improve from 0.15447\n",
      "722/722 [==============================] - 820s 1s/step - loss: 0.1897 - classification_loss: 0.1103 - regression_loss: 0.0794 - val_loss: 0.1551 - val_classification_loss: 0.0865 - val_regression_loss: 0.0686\n",
      "Epoch 5/50\n",
      "722/722 [==============================] - ETA: 0s - loss: 0.1843 - classification_loss: 0.1065 - regression_loss: 0.0778\n",
      "Epoch 00005: val_loss improved from 0.15447 to 0.14964, saving model to checkpoints/voc_l1_finetuned/pascal.h5\n",
      "722/722 [==============================] - 822s 1s/step - loss: 0.1843 - classification_loss: 0.1065 - regression_loss: 0.0778 - val_loss: 0.1496 - val_classification_loss: 0.0825 - val_regression_loss: 0.0672\n",
      "Epoch 6/50\n",
      "722/722 [==============================] - ETA: 0s - loss: 0.1799 - classification_loss: 0.1031 - regression_loss: 0.0768\n",
      "Epoch 00006: val_loss did not improve from 0.14964\n",
      "722/722 [==============================] - 820s 1s/step - loss: 0.1799 - classification_loss: 0.1031 - regression_loss: 0.0768 - val_loss: 0.1517 - val_classification_loss: 0.0840 - val_regression_loss: 0.0677\n",
      "Epoch 7/50\n",
      "722/722 [==============================] - ETA: 0s - loss: 0.1773 - classification_loss: 0.1014 - regression_loss: 0.0759\n",
      "Epoch 00007: val_loss improved from 0.14964 to 0.14795, saving model to checkpoints/voc_l1_finetuned/pascal.h5\n",
      "722/722 [==============================] - 819s 1s/step - loss: 0.1773 - classification_loss: 0.1014 - regression_loss: 0.0759 - val_loss: 0.1480 - val_classification_loss: 0.0812 - val_regression_loss: 0.0668\n",
      "Epoch 8/50\n",
      "722/722 [==============================] - ETA: 0s - loss: 0.1724 - classification_loss: 0.0981 - regression_loss: 0.0743\n",
      "Epoch 00008: val_loss did not improve from 0.14795\n",
      "722/722 [==============================] - 817s 1s/step - loss: 0.1724 - classification_loss: 0.0981 - regression_loss: 0.0743 - val_loss: 0.1480 - val_classification_loss: 0.0813 - val_regression_loss: 0.0667\n",
      "Epoch 9/50\n",
      " 83/722 [==>...........................] - ETA: 8:17 - loss: 0.1793 - classification_loss: 0.1010 - regression_loss: 0.0783^C\n"
     ]
    }
   ],
   "source": [
    "# train all layers with lr=1e-4\n",
    "!python train.py \\\n",
    "--snapshot checkpoints/voc_piou_finetuned/pascal.h5 \\\n",
    "--snapshot-path checkpoints/voc_piou_finetuned \\\n",
    "--phi 0 \\\n",
    "--gpu 0,1 \\\n",
    "--no-evaluation \\\n",
    "--random-transform \\\n",
    "--compute-val-loss \\\n",
    "--lr 6.4e-5 \\\n",
    "--batch-size 16 \\\n",
    "pascal /datasets/dataset/VOCdevkit/VOC2012"
   ]
  },
  {
   "cell_type": "markdown",
   "metadata": {},
   "source": [
    "## Evaluation"
   ]
  },
  {
   "cell_type": "code",
   "execution_count": 1,
   "metadata": {},
   "outputs": [],
   "source": [
    "from eval.pascal import *\n",
    "from generators.pascal import PascalVocGenerator\n",
    "from model import efficientdet\n",
    "import os\n",
    "\n",
    "os.environ['CUDA_VISIBLE_DEVICES'] = '1'"
   ]
  },
  {
   "cell_type": "code",
   "execution_count": 2,
   "metadata": {},
   "outputs": [],
   "source": [
    "phi = 0\n",
    "weighted_bifpn = False\n",
    "common_args = {\n",
    "    'batch_size': 1,\n",
    "    'phi': phi,\n",
    "}\n",
    "test_generator = PascalVocGenerator(\n",
    "    '/datasets/dataset/VOCdevkit/VOC2012',\n",
    "    'val',\n",
    "    shuffle_groups=False,\n",
    "    skip_truncated=False,\n",
    "    skip_difficult=True,\n",
    "    **common_args\n",
    ")"
   ]
  },
  {
   "cell_type": "code",
   "execution_count": 3,
   "metadata": {},
   "outputs": [
    {
     "name": "stdout",
     "output_type": "stream",
     "text": [
      "WARNING:tensorflow:From /usr/local/lib/python3.6/dist-packages/tensorflow/python/util/deprecation.py:574: calling map_fn_v2 (from tensorflow.python.ops.map_fn) with dtype is deprecated and will be removed in a future version.\n",
      "Instructions for updating:\n",
      "Use fn_output_signature instead\n"
     ]
    }
   ],
   "source": [
    "model_path = 'checkpoints/voc_l1_finetuned/pascal.h5'\n",
    "input_shape = (test_generator.image_size, test_generator.image_size)\n",
    "anchors = test_generator.anchors\n",
    "num_classes = test_generator.num_classes()\n",
    "model, prediction_model = efficientdet(phi=phi, num_classes=num_classes, weighted_bifpn=weighted_bifpn)\n",
    "prediction_model.load_weights(model_path, by_name=True)"
   ]
  },
  {
   "cell_type": "code",
   "execution_count": 4,
   "metadata": {},
   "outputs": [
    {
     "name": "stderr",
     "output_type": "stream",
     "text": [
      "Running network: 100% (5823 of 5823) |###| Elapsed Time: 0:02:49 Time:  0:02:49\n",
      "Parsing annotations: 100% (5823 of 5823) || Elapsed Time: 0:00:01 Time:  0:00:01\n"
     ]
    },
    {
     "name": "stdout",
     "output_type": "stream",
     "text": [
      "num_fp=395460.0, num_tp=13518.0\n",
      "433 instances of class aeroplane with average precision: 0.9561\n",
      "358 instances of class bicycle with average precision: 0.9635\n",
      "559 instances of class bird with average precision: 0.9555\n",
      "424 instances of class boat with average precision: 0.8737\n",
      "630 instances of class bottle with average precision: 0.8846\n",
      "301 instances of class bus with average precision: 0.9723\n",
      "1004 instances of class car with average precision: 0.9107\n",
      "612 instances of class cat with average precision: 0.9930\n",
      "1176 instances of class chair with average precision: 0.9502\n",
      "298 instances of class cow with average precision: 0.9754\n",
      "305 instances of class diningtable with average precision: 0.8373\n",
      "759 instances of class dog with average precision: 0.9960\n",
      "360 instances of class horse with average precision: 0.9767\n",
      "356 instances of class motorbike with average precision: 0.9714\n",
      "4372 instances of class person with average precision: 0.9471\n",
      "489 instances of class pottedplant with average precision: 0.9182\n",
      "413 instances of class sheep with average precision: 0.9449\n",
      "285 instances of class sofa with average precision: 0.9788\n",
      "315 instances of class train with average precision: 0.9555\n",
      "392 instances of class tvmonitor with average precision: 0.9828\n",
      "mAP: 0.9472\n"
     ]
    }
   ],
   "source": [
    "average_precisions = evaluate(test_generator, prediction_model, visualize=False)\n",
    "\n",
    "# compute per class average precision\n",
    "total_instances = []\n",
    "precisions = []\n",
    "for label, (average_precision, num_annotations) in average_precisions.items():\n",
    "    print('{:.0f} instances of class'.format(num_annotations), test_generator.label_to_name(label),\n",
    "          'with average precision: {:.4f}'.format(average_precision))\n",
    "    total_instances.append(num_annotations)\n",
    "    precisions.append(average_precision)\n",
    "mean_ap = sum(precisions) / sum(x > 0 for x in total_instances)\n",
    "print('mAP: {:.4f}'.format(mean_ap))"
   ]
  },
  {
   "cell_type": "code",
   "execution_count": null,
   "metadata": {},
   "outputs": [],
   "source": []
  }
 ],
 "metadata": {
  "kernelspec": {
   "display_name": "Python 3",
   "language": "python",
   "name": "python3"
  },
  "language_info": {
   "codemirror_mode": {
    "name": "ipython",
    "version": 3
   },
   "file_extension": ".py",
   "mimetype": "text/x-python",
   "name": "python",
   "nbconvert_exporter": "python",
   "pygments_lexer": "ipython3",
   "version": "3.6.9"
  }
 },
 "nbformat": 4,
 "nbformat_minor": 4
}
